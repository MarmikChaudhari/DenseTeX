{
 "cells": [
  {
   "cell_type": "markdown",
   "metadata": {},
   "source": [
    "# $\\LaTeX$ Tokenizer"
   ]
  },
  {
   "cell_type": "markdown",
   "metadata": {},
   "source": [
    "tokenizer for the model from MathBERTa https://huggingface.co/witiko/mathberta"
   ]
  },
  {
   "cell_type": "code",
   "execution_count": 1,
   "metadata": {},
   "outputs": [],
   "source": [
    "from transformers import AutoTokenizer\n",
    "\n",
    "def load_tokenizer():\n",
    "    return AutoTokenizer.from_pretrained(\"witiko/mathberta\")\n",
    "\n",
    "def encode_text(tokenizer, text):\n",
    "    return tokenizer.encode(text, add_special_tokens=True)\n",
    "\n",
    "def decode_tokens(tokenizer, tokens):\n",
    "    return tokenizer.decode(tokens)\n",
    "\n",
    "tokenizer = load_tokenizer()"
   ]
  },
  {
   "cell_type": "code",
   "execution_count": 22,
   "metadata": {},
   "outputs": [
    {
     "name": "stdout",
     "output_type": "stream",
     "text": [
      "txt: \n",
      "\\frac{1}{2} + \\frac{1}{3} = \\frac{5}{6}\n",
      "\n",
      "tokens:\n",
      "[0, 68319, 1437, 2744, 1437, 54887, 1437, 5214, 1437, 65224, 75814, 24303, 2]\n"
     ]
    }
   ],
   "source": [
    "def encode():\n",
    "    text = \"\\\\frac{1}{2} + \\\\frac{1}{3} = \\\\frac{5}{6}\"\n",
    "    print(f\"txt: \\n{text}\\n\")\n",
    "    tokens = encode_text(tokenizer, text)\n",
    "    f = open(\"tokens.txt\", \"w\")\n",
    "    f.write(str(tokens))\n",
    "    f.close()\n",
    "    print(\"tokens:\")\n",
    "    return tokens\n",
    "\n",
    "\n",
    "print(encode())"
   ]
  },
  {
   "cell_type": "code",
   "execution_count": 20,
   "metadata": {},
   "outputs": [
    {
     "name": "stdout",
     "output_type": "stream",
     "text": [
      "tokens: \n",
      "[0, 68319, 1437, 2744, 1437, 54887, 1437, 5214, 1437, 65224, 75814, 24303, 2]\n",
      "\n",
      "txt:\n",
      "<s>\\frac{1}{2} + \\frac{1}{3} = \\frac{5}{6}</s>\n"
     ]
    }
   ],
   "source": [
    "def decode():\n",
    "    tokenizer = load_tokenizer()\n",
    "    tokens = [0, 68319, 1437, 2744, 1437, 54887, 1437, 5214, 1437, 65224, 75814, 24303, 2]\n",
    "    print(f\"tokens: \\n{tokens}\\n\")\n",
    "    text = decode_tokens(tokenizer, tokens)\n",
    "    f1 = open(\"text.txt\", \"w\")\n",
    "    f1.write(str(text))\n",
    "    f1.close()\n",
    "    print(\"txt:\")\n",
    "    return text\n",
    "\n",
    "print(decode())"
   ]
  }
 ],
 "metadata": {
  "kernelspec": {
   "display_name": "ai_env",
   "language": "python",
   "name": "python3"
  },
  "language_info": {
   "codemirror_mode": {
    "name": "ipython",
    "version": 3
   },
   "file_extension": ".py",
   "mimetype": "text/x-python",
   "name": "python",
   "nbconvert_exporter": "python",
   "pygments_lexer": "ipython3",
   "version": "3.10.13"
  }
 },
 "nbformat": 4,
 "nbformat_minor": 2
}
