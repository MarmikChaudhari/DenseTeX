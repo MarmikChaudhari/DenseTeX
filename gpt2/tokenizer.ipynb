{
 "cells": [
  {
   "cell_type": "markdown",
   "metadata": {},
   "source": [
    "# $\\LaTeX$ Tokenizer"
   ]
  },
  {
   "cell_type": "markdown",
   "metadata": {},
   "source": [
    "tokenizer for the model from MathBERTa https://huggingface.co/witiko/mathberta"
   ]
  },
  {
   "cell_type": "code",
   "execution_count": 5,
   "metadata": {},
   "outputs": [],
   "source": [
    "from transformers import AutoTokenizer\n",
    "\n",
    "def load_tokenizer():\n",
    "    return AutoTokenizer.from_pretrained(\"witiko/mathberta\")\n",
    "\n",
    "def encode_text(tokenizer, text):\n",
    "    return tokenizer.encode(text, add_special_tokens=True)\n",
    "\n",
    "def decode_tokens(tokenizer, tokens):\n",
    "    return tokenizer.decode(tokens)\n",
    "\n",
    "tokenizer = load_tokenizer()"
   ]
  },
  {
   "cell_type": "code",
   "execution_count": 41,
   "metadata": {},
   "outputs": [
    {
     "name": "stdout",
     "output_type": "stream",
     "text": [
      "txt: \n",
      "the cat i have ewrtqwer 34 few rtnq rg er tg qergqe ge rtg\n",
      "\n",
      "encoded: \n",
      "[0, 627, 1437, 3245, 90, 1437, 118, 1437, 1999, 548, 1437, 2753, 9713, 1343, 1694, 338, 1437, 3079, 1437, 506, 2753, 1437, 9713, 282, 1343, 1437, 17865, 1437, 254, 1437, 90, 571, 1437, 1343, 11249, 1343, 242, 1437, 1899, 1437, 9713, 571, 2]\n"
     ]
    }
   ],
   "source": [
    "def encode():\n",
    "    text = \"\\\\frac{1}{2} + \\\\frac{1}{3} = \\\\frac{5}{6}\"\n",
    "    print(f\"txt: \\n{text}\\n\")\n",
    "    tokens = encode_text(tokenizer, text)\n",
    "    print(f\"encoded: \\n{tokens}\")\n",
    "\n",
    "encode()"
   ]
  },
  {
   "cell_type": "code",
   "execution_count": 40,
   "metadata": {},
   "outputs": [
    {
     "name": "stdout",
     "output_type": "stream",
     "text": [
      "tokens: \n",
      "[68319, 1437, 2744, 1437, 54887, 1437, 5214, 1437, 65224, 75814, 24303]\n",
      "\n",
      "txt: \n",
      "\\frac{1}{2} + \\frac{1}{3} = \\frac{5}{6}\n",
      "\n"
     ]
    }
   ],
   "source": [
    "def decode():\n",
    "    tokens = [68319, 1437, 2744, 1437, 54887, 1437, 5214, 1437, 65224, 75814, 24303]\n",
    "    print(f\"tokens: \\n{tokens}\\n\")\n",
    "    text = decode_tokens(tokenizer, tokens)\n",
    "    print(f\"txt: \\n{text}\\n\")\n",
    "\n",
    "decode()"
   ]
  }
 ],
 "metadata": {
  "kernelspec": {
   "display_name": "ai_env",
   "language": "python",
   "name": "python3"
  },
  "language_info": {
   "codemirror_mode": {
    "name": "ipython",
    "version": 3
   },
   "file_extension": ".py",
   "mimetype": "text/x-python",
   "name": "python",
   "nbconvert_exporter": "python",
   "pygments_lexer": "ipython3",
   "version": "3.10.13"
  }
 },
 "nbformat": 4,
 "nbformat_minor": 2
}
